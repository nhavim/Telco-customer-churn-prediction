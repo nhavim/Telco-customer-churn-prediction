{
 "cells": [
  {
   "cell_type": "markdown",
   "id": "0b55b27e",
   "metadata": {},
   "source": [
    "### Project Title\n",
    "Classification Project; Customer Churn Prediction for a Telecommunication company."
   ]
  },
  {
   "cell_type": "markdown",
   "id": "2a11842d",
   "metadata": {},
   "source": [
    "### Problem Statement\n",
    "This project seeks to ascertain the likelihood of turnover among customers in a Telecommunication company. This project will analyze the possible cause and predict if a customer will churn in future also suggest strategies to retain customers."
   ]
  },
  {
   "cell_type": "markdown",
   "id": "c7860fc0",
   "metadata": {},
   "source": [
    "### Introduction\n",
    "Customer churn also known as customer turnover is the fraction of customers that stopped patronizing a company's products or services for a specific period. \n",
    "This project is a classification project which will help a telecom company understand their data, point out what is being done wrong or right and predict the possibilities of customers churning and help the company to make the right decision for the development of the company. We will build a Machine learning algorithm to predict whether customers are likely to churn or not. "
   ]
  },
  {
   "cell_type": "markdown",
   "id": "2f211167",
   "metadata": {},
   "source": [
    "### Importing Libraries"
   ]
  },
  {
   "cell_type": "code",
   "execution_count": null,
   "id": "7fff8d4e",
   "metadata": {},
   "outputs": [],
   "source": [
    "import pandas as pd\n",
    "import numpy as np\n",
    "import re\n",
    "\n",
    "# Graphs and visualizations\n",
    "import seaborn as sns\n",
    "import plotly.express as px\n",
    "import matplotlib.pyplot as plt\n",
    "import plotly.offline as py\n",
    "import plotly.graph_objs as go\n",
    "from plotly.subplots import make_subplots\n",
    "\n",
    "# impute missing values\n",
    "from sklearn.impute import SimpleImputer\n",
    "# Dataset splitting\n",
    "from sklearn.model_selection import train_test_split\n",
    "\n",
    "# For Fearture Encoding\n",
    "from sklearn.preprocessing import OneHotEncoder\n",
    "\n",
    "# For feature scaling\n",
    "from sklearn.preprocessing import StandardScaler\n",
    "\n",
    "# For class imbalance\n",
    "from imblearn import over_sampling\n",
    "\n",
    "# For Machine learning modelling\n",
    "#from lazypredict.Supervised import LazyClassifier\n",
    "from sklearn.metrics import recall_score"
   ]
  },
  {
   "cell_type": "markdown",
   "id": "80435b4d",
   "metadata": {},
   "source": [
    "### Loading Data set"
   ]
  },
  {
   "cell_type": "code",
   "execution_count": null,
   "id": "4e667a4d",
   "metadata": {},
   "outputs": [],
   "source": [
    "df = pd.read_csv(r\"C:\\Users\\Nathaniel Havim\\Desktop\\Azubi_Projects\\LP3_DAP\\Telco-Customer-Churn.csv\")"
   ]
  },
  {
   "cell_type": "markdown",
   "id": "daafa1b0",
   "metadata": {},
   "source": [
    "### Data Overview"
   ]
  },
  {
   "cell_type": "code",
   "execution_count": null,
   "id": "0073247b",
   "metadata": {},
   "outputs": [],
   "source": [
    "df.head()"
   ]
  },
  {
   "cell_type": "code",
   "execution_count": null,
   "id": "2f246887",
   "metadata": {},
   "outputs": [],
   "source": [
    "# the size of the data set\n",
    "df.shape"
   ]
  },
  {
   "cell_type": "code",
   "execution_count": null,
   "id": "225035ea",
   "metadata": {},
   "outputs": [],
   "source": [
    "#concise summary of a DataFrame.\n",
    "df.info()"
   ]
  },
  {
   "cell_type": "markdown",
   "id": "c1d9475c",
   "metadata": {},
   "source": [
    "### Identified Issue(s) with the data set"
   ]
  },
  {
   "cell_type": "markdown",
   "id": "5dbef8ff",
   "metadata": {},
   "source": [
    "1. TotalCharges is in the wrong datatype (object)\n",
    "2. The TotalCharges column contains non-numeric characters"
   ]
  },
  {
   "cell_type": "markdown",
   "id": "c5b05c28",
   "metadata": {},
   "source": [
    "### How to handle the identified issue(s)"
   ]
  },
  {
   "cell_type": "markdown",
   "id": "31ff979e",
   "metadata": {},
   "source": [
    "1. TotalCharges will converted to float data type\n",
    "2. We will replace non-numeric characters with the appropriate values"
   ]
  },
  {
   "cell_type": "markdown",
   "id": "7114b3e5",
   "metadata": {},
   "source": [
    "##### Checking for unique values the TotalCharges column"
   ]
  },
  {
   "cell_type": "code",
   "execution_count": null,
   "id": "f37f262d",
   "metadata": {},
   "outputs": [],
   "source": [
    "# Checking for unique values in TotalCharges column\n",
    "df.TotalCharges.unique()"
   ]
  },
  {
   "cell_type": "code",
   "execution_count": null,
   "id": "143b84e9",
   "metadata": {},
   "outputs": [],
   "source": [
    "df['TotalCharges'] = pd.to_numeric(df.TotalCharges, errors='coerce')\n",
    "df.isnull().sum()"
   ]
  },
  {
   "cell_type": "code",
   "execution_count": null,
   "id": "fe338fc3",
   "metadata": {},
   "outputs": [],
   "source": [
    "df[df['tenure'] == 0].index"
   ]
  },
  {
   "cell_type": "code",
   "execution_count": null,
   "id": "4421015f",
   "metadata": {},
   "outputs": [],
   "source": [
    "df.TotalCharges.describe()"
   ]
  },
  {
   "cell_type": "code",
   "execution_count": null,
   "id": "6dca4e74",
   "metadata": {},
   "outputs": [],
   "source": [
    "df.drop(labels=df[df['tenure'] == 0].index, axis=0, inplace=True)\n",
    "df[df['tenure'] == 0].index"
   ]
  },
  {
   "cell_type": "code",
   "execution_count": null,
   "id": "cf36fd26",
   "metadata": {},
   "outputs": [],
   "source": [
    "# description of the data set\n",
    "df.describe()"
   ]
  },
  {
   "cell_type": "code",
   "execution_count": null,
   "id": "96b02914",
   "metadata": {},
   "outputs": [],
   "source": [
    "# Detect missing values\n",
    "df.isna().sum().sum()"
   ]
  },
  {
   "cell_type": "code",
   "execution_count": null,
   "id": "152162fd",
   "metadata": {},
   "outputs": [],
   "source": [
    "# Detect duplicate values\n",
    "df.duplicated().sum()"
   ]
  },
  {
   "cell_type": "code",
   "execution_count": null,
   "id": "509f2ec7",
   "metadata": {},
   "outputs": [],
   "source": [
    "target = df.Churn.copy()\n",
    "target_label = 'Churn'"
   ]
  },
  {
   "cell_type": "code",
   "execution_count": null,
   "id": "6f6408a4",
   "metadata": {},
   "outputs": [],
   "source": [
    "cats = [col for col in df.columns if (df[col].dtype == 'object')& (col not in ['customerID'])]\n",
    "nums = [col for col in df.columns if df[col].dtype != 'object']\n",
    "print(cats)\n",
    "print(nums)"
   ]
  },
  {
   "cell_type": "code",
   "execution_count": null,
   "id": "03626b8f",
   "metadata": {},
   "outputs": [],
   "source": [
    "df[cats].describe()"
   ]
  },
  {
   "cell_type": "code",
   "execution_count": null,
   "id": "b6484f04",
   "metadata": {},
   "outputs": [],
   "source": [
    "df[nums].describe()"
   ]
  },
  {
   "cell_type": "markdown",
   "id": "9b3f01af",
   "metadata": {},
   "source": [
    "### Hypotheses\n",
    "*H1*\n",
    "\n",
    "Null Hypothesis (H0): There is no relationship between tenure and monthly charges.\n",
    " \n",
    "Alternative Hypothesis(H1): There is a relationship between tenure and monthly charges\n",
    "\n",
    "*H2*\n",
    "\n",
    "Null Hypothsis (H0): Customer satisfaction has no direct effect on customer churning\n",
    "\n",
    "Alternaative Hypothesis (H1): Customer satisfaction has direct effect customer churning"
   ]
  },
  {
   "cell_type": "markdown",
   "id": "0055f6a7",
   "metadata": {},
   "source": [
    "### Questions\n",
    "1. Does tenure affect a customer's monthly charges?\n",
    "\n",
    "2. Are customers with dependents likely to have multiplelines?\n",
    "\n",
    "3. What service generate the more revenue for the telco?\n",
    "\n",
    "4. How many customers have access to internet service?\n",
    "\n",
    "5. What is the churn rate of the telco?\n",
    "\n",
    "6. What percentage of customers do not have network access?\n",
    "\n",
    "7. Does Dependants affect monthly charges?"
   ]
  },
  {
   "cell_type": "markdown",
   "id": "0f69e475",
   "metadata": {},
   "source": [
    "## Exporatory Data Analysis"
   ]
  },
  {
   "cell_type": "markdown",
   "id": "df6c8985",
   "metadata": {},
   "source": [
    "This section explores data visually using descriptive methods including Univariate, Bivariate and Multivariate Analysis"
   ]
  },
  {
   "cell_type": "markdown",
   "id": "288260de",
   "metadata": {},
   "source": [
    "### Univariate Analysis"
   ]
  },
  {
   "cell_type": "code",
   "execution_count": null,
   "id": "9bed7470",
   "metadata": {
    "scrolled": false
   },
   "outputs": [],
   "source": [
    "for col in cats:\n",
    "    print(col)\n",
    "    sns.countplot(data=df, x=col)\n",
    "    plt.title(col)\n",
    "    plt.tight_layout()\n",
    "    plt.show()"
   ]
  },
  {
   "cell_type": "code",
   "execution_count": null,
   "id": "1efc84e2",
   "metadata": {},
   "outputs": [],
   "source": [
    "for col in nums:\n",
    "    print(col)\n",
    "    sns.histplot(data=df, x=col, kde = True)\n",
    "    plt.title(col)\n",
    "    plt.tight_layout()\n",
    "    plt.show()"
   ]
  },
  {
   "cell_type": "code",
   "execution_count": null,
   "id": "09b67f51",
   "metadata": {},
   "outputs": [],
   "source": [
    "for col in nums:\n",
    "    print(col)\n",
    "    sns.boxplot(data=df, x=col)\n",
    "    plt.title(col)\n",
    "    plt.tight_layout()\n",
    "    plt.show()"
   ]
  },
  {
   "cell_type": "code",
   "execution_count": null,
   "id": "e0a9dfa8",
   "metadata": {},
   "outputs": [],
   "source": [
    "for col in nums:\n",
    "    print(col)\n",
    "    sns.kdeplot(data=df, x=col, hue='Churn', fill=True)\n",
    "    plt.title(col)\n",
    "    plt.tight_layout()\n",
    "    plt.show()"
   ]
  },
  {
   "cell_type": "code",
   "execution_count": null,
   "id": "d2ad8011",
   "metadata": {},
   "outputs": [],
   "source": [
    "for col in nums:\n",
    "    print(col)\n",
    "    sns.boxplot(data=df, x=col, y='Churn')\n",
    "    plt.title(col)\n",
    "    plt.tight_layout()\n",
    "    plt.show()"
   ]
  },
  {
   "cell_type": "markdown",
   "id": "8f66eb06",
   "metadata": {},
   "source": [
    "### Bivariate Analysis\n",
    "This section deals with the relationship between two different variable answer different questions."
   ]
  },
  {
   "cell_type": "code",
   "execution_count": null,
   "id": "2af0ae7b",
   "metadata": {},
   "outputs": [],
   "source": [
    "sns.catplot(data=df, x='SeniorCitizen',y='MonthlyCharges', kind='bar')"
   ]
  },
  {
   "cell_type": "markdown",
   "id": "a09027ad",
   "metadata": {},
   "source": [
    "**tenure vrs MonthlyCharges**"
   ]
  },
  {
   "cell_type": "code",
   "execution_count": null,
   "id": "5887cd46",
   "metadata": {},
   "outputs": [],
   "source": [
    "fig = px.density_heatmap(data_frame=df, x='MonthlyCharges',y='tenure', color_continuous_scale='PuBu')\n",
    "fig.show()"
   ]
  },
  {
   "cell_type": "markdown",
   "id": "fbb763f5",
   "metadata": {},
   "source": [
    "**Interpret graph**\n",
    "The graph shows that, when tenure was 0-9 and monthly charges was from 70 - 79.99, the network had 348 customers meanwhile when tenure at 70 -79 and monthly charges was 110-119.99 the 100. This means the monthly charges is not based on how long a customer has been wilt the telco."
   ]
  },
  {
   "cell_type": "code",
   "execution_count": null,
   "id": "7f888909",
   "metadata": {},
   "outputs": [],
   "source": [
    "color_map = {\"Yes\": \"#FF97FF\", \"No\": \"#AB63FA\"}\n",
    "fig = px.histogram(df, x=\"Churn\", color=\"Dependents\", barmode=\"group\", title=\"<b>Dependents distribution</b>\", color_discrete_map=color_map)\n",
    "fig.update_layout(width=700, height=500, bargap=0.1)\n",
    "fig.show()"
   ]
  },
  {
   "cell_type": "markdown",
   "id": "ae180683",
   "metadata": {},
   "source": [
    "**Dependents vrs multiplelines**"
   ]
  },
  {
   "cell_type": "code",
   "execution_count": null,
   "id": "fa3d2538",
   "metadata": {},
   "outputs": [],
   "source": [
    "dep_mtline=df.groupby(['Dependents']).count()['MultipleLines'].sort_values(ascending=False).reset_index()"
   ]
  },
  {
   "cell_type": "code",
   "execution_count": null,
   "id": "7d203b7f",
   "metadata": {},
   "outputs": [],
   "source": [
    "fig=px.bar(dep_mtline, x='Dependents', y='MultipleLines', title=\"Customers with Dependents and MultipleLines\")\n",
    "fig.update_layout(width=500, height=500, bargap=0.1)\n",
    "fig.show()"
   ]
  },
  {
   "cell_type": "markdown",
   "id": "1212324c",
   "metadata": {},
   "source": [
    "**Interpret graph**\n",
    "From the graph, 3390 customers have dependents but do not have Multiple lines. 2971 of the customers have dependants and also have multiple lines and 682 of the customers have dependants but do not have no phone services. We can conclude that there is no likelihood that customers with dependants will have multiple lines."
   ]
  },
  {
   "cell_type": "code",
   "execution_count": null,
   "id": "a266176e",
   "metadata": {},
   "outputs": [],
   "source": [
    "g_labels = ['Male', 'Female']\n",
    "c_labels = ['No', 'Yes']\n",
    "# Create subplots: use 'domain' type for Pie subplot\n",
    "fig = make_subplots(rows=1, cols=2, specs=[[{'type':'domain'}, {'type':'domain'}]])\n",
    "fig.add_trace(go.Pie(labels=g_labels, values=df['gender'].value_counts(), name=\"Gender\"),\n",
    "              1, 1)\n",
    "fig.add_trace(go.Pie(labels=c_labels, values=df['Churn'].value_counts(), name=\"Churn\"),\n",
    "              1, 2)\n",
    "\n",
    "# Use `hole` to create a donut-like pie chart\n",
    "fig.update_traces(hole=.4, hoverinfo=\"label+percent+name\", textfont_size=16)\n",
    "\n",
    "fig.update_layout(\n",
    "    title_text=\"Gender and Churn Distributions\",\n",
    "    # Add annotations in the center of the donut pies.\n",
    "    annotations=[dict(text='Gender', x=0.16, y=0.5, font_size=20, showarrow=False),\n",
    "                 dict(text='Churn', x=0.84, y=0.5, font_size=20, showarrow=False)])\n",
    "fig.show()"
   ]
  },
  {
   "cell_type": "markdown",
   "id": "2787dae8",
   "metadata": {},
   "source": [
    "**Question. What is the total charges of the telco by gender?**"
   ]
  },
  {
   "cell_type": "code",
   "execution_count": null,
   "id": "0ee5a5fb",
   "metadata": {},
   "outputs": [],
   "source": [
    "genderTotalcharges = df.groupby(['gender']).sum()['TotalCharges']"
   ]
  },
  {
   "cell_type": "code",
   "execution_count": null,
   "id": "d7c27fad",
   "metadata": {},
   "outputs": [],
   "source": [
    "color_map = {\"Female\": 'aliceblue', \"Male\": 'bisque'}\n",
    "fig=px.bar(genderTotalcharges, y='TotalCharges',title='Total Revenue by gender')\n",
    "fig.update_layout(width=500, height= 500, bargap=0.1)\n",
    "fig.show()"
   ]
  },
  {
   "cell_type": "code",
   "execution_count": null,
   "id": "e839859f",
   "metadata": {},
   "outputs": [],
   "source": [
    "color_map = {\"Yes\": 'aliceblue', \"No\": 'bisque'}\n",
    "fig = px.histogram(df, x=\"Churn\", color=\"Partner\", barmode=\"group\", title=\"<b>Churn distribution vrs Partners</b>\", color_discrete_map=color_map)\n",
    "fig.update_layout(width=500, height=500, bargap=0.1)\n",
    "fig.show()"
   ]
  },
  {
   "cell_type": "code",
   "execution_count": null,
   "id": "d65bcee1",
   "metadata": {},
   "outputs": [],
   "source": [
    "color_map = {\"Yes\": \"aqua\", \"No\": \"azure\"}\n",
    "fig = px.histogram(df, x=\"Churn\", color=\"OnlineSecurity\", barmode=\"group\", title=\"<b>Churn vrs Online Security</b>\", color_discrete_map=color_map)\n",
    "fig.update_layout(width=800, height=500, bargap=0.1)\n",
    "fig.show()"
   ]
  },
  {
   "cell_type": "code",
   "execution_count": null,
   "id": "fd2e948d",
   "metadata": {},
   "outputs": [],
   "source": [
    "color_map = {\"Yes\": 'lavenderblush', \"No\": 'lavender'}\n",
    "fig = px.histogram(df, x=\"Churn\", color=\"PaperlessBilling\",  title=\"<b>Churn distribution vrs Paperless Billing</b>\", color_discrete_map=color_map)\n",
    "fig.update_layout(width=500, height=500, bargap=0.1)\n",
    "fig.show()"
   ]
  },
  {
   "cell_type": "code",
   "execution_count": null,
   "id": "554f94b7",
   "metadata": {},
   "outputs": [],
   "source": [
    "color_map = {\"Yes\": 'cadetblue', \"No\": 'cyan'}\n",
    "fig = px.histogram(df, x=\"Churn\", color=\"PhoneService\", title=\"<b>Churn distribution w.r.t. Phone Service</b>\", color_discrete_map=color_map)\n",
    "fig.update_layout(width=500, height=500, bargap=0.1)\n",
    "fig.show()"
   ]
  },
  {
   "cell_type": "markdown",
   "id": "a28b941e",
   "metadata": {},
   "source": [
    "**Multivariate Analysis**\n",
    "\n",
    "This section is about the relationship that exist between three and more variables in the data set."
   ]
  },
  {
   "cell_type": "code",
   "execution_count": null,
   "id": "59a5b670",
   "metadata": {},
   "outputs": [],
   "source": [
    "fig = go.Figure()\n",
    "\n",
    "fig.add_trace(go.Bar(\n",
    "  x = [['Churn:No', 'Churn:No', 'Churn:Yes', 'Churn:Yes'],\n",
    "       [\"Female\", \"Male\", \"Female\", \"Male\"]],\n",
    "  y = [965, 992, 219, 240],\n",
    "  name = 'DSL',\n",
    "))\n",
    "\n",
    "fig.add_trace(go.Bar(\n",
    "  x = [['Churn:No', 'Churn:No', 'Churn:Yes', 'Churn:Yes'],\n",
    "       [\"Female\", \"Male\", \"Female\", \"Male\"]],\n",
    "  y = [889, 910, 664, 633],\n",
    "  name = 'Fiber optic',\n",
    "))\n",
    "\n",
    "fig.add_trace(go.Bar(\n",
    "  x = [['Churn:No', 'Churn:No', 'Churn:Yes', 'Churn:Yes'],\n",
    "       [\"Female\", \"Male\", \"Female\", \"Male\"]],\n",
    "  y = [690, 717, 56, 57],\n",
    "  name = 'No Internet',\n",
    "))\n",
    "\n",
    "fig.update_layout(title_text=\"<b>Churn Distribution with Internet Service and Gender</b>\")\n",
    "\n",
    "fig.show()"
   ]
  },
  {
   "cell_type": "code",
   "execution_count": null,
   "id": "dc98e14d",
   "metadata": {},
   "outputs": [],
   "source": [
    "df[\"Churn\"][df[\"Churn\"]==\"No\"].groupby(by=df[\"gender\"]).count()"
   ]
  },
  {
   "cell_type": "code",
   "execution_count": null,
   "id": "d41c09f3",
   "metadata": {},
   "outputs": [],
   "source": [
    "df[\"Churn\"][df[\"Churn\"]==\"Yes\"].groupby(by=df[\"gender\"]).count()"
   ]
  },
  {
   "cell_type": "code",
   "execution_count": null,
   "id": "d5f546b8",
   "metadata": {},
   "outputs": [],
   "source": [
    "labels = df['PaymentMethod'].unique()\n",
    "values = df['PaymentMethod'].value_counts()\n",
    "\n",
    "fig = go.Figure(data=[go.Pie(labels=labels, values=values, hole=.3)])\n",
    "fig.update_layout(title_text=\"<b>Payment Method Distribution</b>\")\n",
    "fig.show()"
   ]
  },
  {
   "cell_type": "code",
   "execution_count": null,
   "id": "8f2249c5",
   "metadata": {},
   "outputs": [],
   "source": [
    "plt.figure(figsize=(12,12))\n",
    "ax = sns.heatmap(df.corr(method='kendall'), annot=True, fmt='.2f', vmin=-1, vmax=1, cmap='coolwarm')\n",
    "plt.tight_layout()\n",
    "plt.show()"
   ]
  },
  {
   "cell_type": "markdown",
   "id": "99281bb7",
   "metadata": {},
   "source": [
    "### Feature Processing & Engineering\n",
    "Here is the section to clean, process the dataset and create new features."
   ]
  },
  {
   "cell_type": "markdown",
   "id": "29677e88",
   "metadata": {},
   "source": [
    "### impute missing values"
   ]
  },
  {
   "cell_type": "code",
   "execution_count": null,
   "id": "a707e9e3",
   "metadata": {},
   "outputs": [],
   "source": [
    "df['TotalCharges'] = df['TotalCharges'].fillna(df['TotalCharges'].mean())"
   ]
  },
  {
   "cell_type": "markdown",
   "id": "261750b6",
   "metadata": {},
   "source": [
    "## Feature Creation"
   ]
  },
  {
   "cell_type": "markdown",
   "id": "6cf3c553",
   "metadata": {},
   "source": [
    "#### Arrange Data into Feature and target"
   ]
  },
  {
   "cell_type": "code",
   "execution_count": null,
   "id": "35559697",
   "metadata": {},
   "outputs": [],
   "source": [
    "# Take other columns as features and churn column as target but ignore the customerID column\n",
    "features = [col for col in df.columns if col not in ['customerID', target_label]]"
   ]
  },
  {
   "cell_type": "code",
   "execution_count": null,
   "id": "ae6b7d00",
   "metadata": {},
   "outputs": [],
   "source": [
    "df[target_label]"
   ]
  },
  {
   "cell_type": "code",
   "execution_count": null,
   "id": "4acde6da",
   "metadata": {},
   "outputs": [],
   "source": [
    "df[features]"
   ]
  },
  {
   "cell_type": "code",
   "execution_count": null,
   "id": "adde539a",
   "metadata": {},
   "outputs": [],
   "source": [
    "# Assign x and y to features and target respectively\n",
    "X = df.loc[:,features]\n",
    "y = df.loc[:,target_label]"
   ]
  },
  {
   "cell_type": "markdown",
   "id": "94ddce85",
   "metadata": {},
   "source": [
    "### Dataset Splitting"
   ]
  },
  {
   "cell_type": "code",
   "execution_count": null,
   "id": "7d13e783",
   "metadata": {},
   "outputs": [],
   "source": [
    "# split the dataset\n",
    "X_train, X_test, y_train, y_test = train_test_split(\n",
    "    X.copy(), y.copy(), test_size=0.2, random_state=42, stratify=y)\n",
    "X_train.shape, X_test.shape, y_train.shape, y_test.shape"
   ]
  },
  {
   "cell_type": "markdown",
   "id": "b11ebe7b",
   "metadata": {},
   "source": [
    "### Features Encoding"
   ]
  },
  {
   "cell_type": "markdown",
   "id": "eb626f53",
   "metadata": {},
   "source": [
    "**ONEHOT ENCODING**"
   ]
  },
  {
   "cell_type": "code",
   "execution_count": null,
   "id": "7efb9885",
   "metadata": {},
   "outputs": [],
   "source": [
    "# list the columns to apply OneHotEncoding on\n",
    "categorical = ['gender', 'Partner', 'Dependents', 'PhoneService', \n",
    "            'MultipleLines', 'InternetService', 'OnlineSecurity',\n",
    "            'OnlineBackup','DeviceProtection','TechSupport','StreamingTV',\n",
    "           'StreamingMovies','Contract','PaperlessBilling','PaymentMethod']"
   ]
  },
  {
   "cell_type": "markdown",
   "id": "f58440fe",
   "metadata": {},
   "source": [
    "#### Data Transformation (Train Data)"
   ]
  },
  {
   "cell_type": "code",
   "execution_count": null,
   "id": "7aa01da5",
   "metadata": {},
   "outputs": [],
   "source": [
    "enc_train = OneHotEncoder().fit_transform(X_train)"
   ]
  },
  {
   "cell_type": "code",
   "execution_count": null,
   "id": "d3d3cc6d",
   "metadata": {},
   "outputs": [],
   "source": [
    "enc_train"
   ]
  },
  {
   "cell_type": "markdown",
   "id": "93412d3f",
   "metadata": {},
   "source": [
    "**Data Transformation (Test Data)**"
   ]
  },
  {
   "cell_type": "code",
   "execution_count": null,
   "id": "963b2714",
   "metadata": {},
   "outputs": [],
   "source": [
    "enctest = OneHotEncoder().fit_transform(X_test)"
   ]
  },
  {
   "cell_type": "code",
   "execution_count": null,
   "id": "c3a2c208",
   "metadata": {},
   "outputs": [],
   "source": [
    "enctest"
   ]
  },
  {
   "cell_type": "markdown",
   "id": "3cfe6f4a",
   "metadata": {},
   "source": [
    "### Features Scaling - Train Data"
   ]
  },
  {
   "cell_type": "code",
   "execution_count": null,
   "id": "664b6c16",
   "metadata": {},
   "outputs": [],
   "source": [
    "Standardisation = preprocessing.StandardScaler()"
   ]
  },
  {
   "cell_type": "code",
   "execution_count": null,
   "id": "b12afa71",
   "metadata": {},
   "outputs": [],
   "source": [
    "sc.transform(X_train)\n",
    "X_train = sc.fit_transform(X_train)\n",
    "print (\"\\nAfter Standardisation : \\n\", X_train_after_Standardisation)"
   ]
  },
  {
   "cell_type": "code",
   "execution_count": null,
   "id": "eb5b94b0",
   "metadata": {},
   "outputs": [],
   "source": []
  },
  {
   "cell_type": "markdown",
   "id": "ac038e07",
   "metadata": {},
   "source": [
    "### Features Scaling - Test Data"
   ]
  },
  {
   "cell_type": "code",
   "execution_count": null,
   "id": "48b0d5c7",
   "metadata": {},
   "outputs": [],
   "source": [
    "X_test = sc.fit_transform(X_test)\n",
    "X_test[:5]"
   ]
  },
  {
   "cell_type": "markdown",
   "id": "68301f91",
   "metadata": {},
   "source": [
    "### Optional: Train set Balancing (for Classification only)"
   ]
  },
  {
   "cell_type": "markdown",
   "id": "8b3dbe33",
   "metadata": {},
   "source": [
    "**CLASS IMBALANCE**"
   ]
  },
  {
   "cell_type": "code",
   "execution_count": null,
   "id": "307b6725",
   "metadata": {},
   "outputs": [],
   "source": [
    "# Use Over-sampling/Under-sampling methods, more details here: https://imbalanced-learn.org/stable/install.htm\n",
    "pd.Series(y_train).value_counts()"
   ]
  },
  {
   "cell_type": "code",
   "execution_count": null,
   "id": "5cecd106",
   "metadata": {},
   "outputs": [],
   "source": [
    "X_over_SMOTE, y_over_SMOTE = over_sampling.SMOTE(random_state=42, sampling_strategy=0.6).fit_resample(X_train, y_train)"
   ]
  },
  {
   "cell_type": "code",
   "execution_count": null,
   "id": "fc3023e8",
   "metadata": {},
   "outputs": [],
   "source": [
    "print('SMOTE')\n",
    "print(pd.Series(y_over_SMOTE).value_counts())"
   ]
  },
  {
   "cell_type": "code",
   "execution_count": null,
   "id": "0e640f2f",
   "metadata": {},
   "outputs": [],
   "source": [
    "X_train, y_train = X_over_SMOTE, y_over_SMOTE\n",
    "X_train.shape, y_train.shape"
   ]
  },
  {
   "cell_type": "markdown",
   "id": "3dfa3b0a",
   "metadata": {},
   "source": [
    "**FEATURE IMPORTANCE**"
   ]
  },
  {
   "cell_type": "code",
   "execution_count": null,
   "id": "c8dc6b8c",
   "metadata": {},
   "outputs": [],
   "source": [
    "from sklearn.ensemble import RandomForestClassifier\n",
    "from boruta import BorutaPy"
   ]
  },
  {
   "cell_type": "code",
   "execution_count": null,
   "id": "7d46d8b8",
   "metadata": {},
   "outputs": [],
   "source": [
    "rfc = RandomForestClassifier(n_jobs=-1, class_weight='balanced', max_depth=5)\n",
    "rfc.fit(X_train, y_train)"
   ]
  },
  {
   "cell_type": "code",
   "execution_count": null,
   "id": "9e13b7ab",
   "metadata": {},
   "outputs": [],
   "source": [
    "bota = BorutaPy(rfc, n_estimators='auto', random_state=42)\n",
    "bota.fit(np.array(X_train), np.array(y_train))\n",
    "bota_ranking = bota.ranking_"
   ]
  },
  {
   "cell_type": "code",
   "execution_count": null,
   "id": "7963aca6",
   "metadata": {},
   "outputs": [],
   "source": [
    "plt.figure(figsize=(8,6))\n",
    "sns.barplot(y=[col for col in X_train.columns.values], x=bota_ranking, hue=bota_ranking)"
   ]
  },
  {
   "cell_type": "code",
   "execution_count": null,
   "id": "fbd49ef4",
   "metadata": {},
   "outputs": [],
   "source": [
    "selected_features = {}\n",
    "for i, col in enumerate(X_train.columns):\n",
    "    if bota_ranking[i] <=2:\n",
    "        selected_features[col] = bota_ranking[i]\n",
    "selected_features"
   ]
  },
  {
   "cell_type": "code",
   "execution_count": null,
   "id": "dfa46c83",
   "metadata": {},
   "outputs": [],
   "source": [
    "features = [k for k in selected_features.keys()]"
   ]
  },
  {
   "cell_type": "code",
   "execution_count": null,
   "id": "bf11643d",
   "metadata": {},
   "outputs": [],
   "source": [
    "from sklearn.feature_selection import SelectKBest\n",
    "from sklearn.feature_selection import chi2"
   ]
  },
  {
   "cell_type": "code",
   "execution_count": null,
   "id": "1f73a433",
   "metadata": {},
   "outputs": [],
   "source": [
    "features_cat = [col for col in np.concatenate((labels, onehotenc.get_feature_names_out(onehotcats))) if col in features]\n",
    "select = SelectKBest(score_func=chi2, k='all')\n",
    "selector = select.fit(X_train[features_cat], y_train)"
   ]
  },
  {
   "cell_type": "code",
   "execution_count": null,
   "id": "6c9e0b78",
   "metadata": {},
   "outputs": [],
   "source": [
    "scores = pd.DataFrame(features_cat)\n",
    "scores['score'] = selector.scores_\n",
    "scores = scores.sort_values('score', ascending=False)"
   ]
  },
  {
   "cell_type": "code",
   "execution_count": null,
   "id": "c330aaf6",
   "metadata": {},
   "outputs": [],
   "source": [
    "sns.barplot(data=scores, x='score', y=0)\n",
    "plt.title('Chi-Squared Test Statistic')\n",
    "plt.ylabel('')\n",
    "plt.tight_layout()\n",
    "plt.show()"
   ]
  },
  {
   "cell_type": "code",
   "execution_count": null,
   "id": "fd637ecf",
   "metadata": {},
   "outputs": [],
   "source": [
    "filtered_score = scores[scores['score']<=200]\n",
    "filtered_score[0].values"
   ]
  },
  {
   "cell_type": "code",
   "execution_count": null,
   "id": "6336300d",
   "metadata": {},
   "outputs": [],
   "source": [
    "features_1 = [col for col in features if col not in filtered_score[0].values]\n",
    "features_1"
   ]
  },
  {
   "cell_type": "markdown",
   "id": "61ad4ec0",
   "metadata": {},
   "source": [
    "**MULTICOLLINEARITY**"
   ]
  },
  {
   "cell_type": "code",
   "execution_count": null,
   "id": "a6c037bd",
   "metadata": {},
   "outputs": [],
   "source": [
    "temper = X_train[features_1].copy()\n",
    "temper[target_label] = y_train.copy()\n",
    "corr = temper.corr(method='pearson')"
   ]
  },
  {
   "cell_type": "code",
   "execution_count": null,
   "id": "d7d946ad",
   "metadata": {},
   "outputs": [],
   "source": [
    "plt.figure(figsize=(14,12))\n",
    "ax = sns.heatmap(corr, annot=True, fmt='.2f', vmin=-1, vmax=1, cmap='coolwarm')\n",
    "plt.tight_layout()\n",
    "plt.show()"
   ]
  },
  {
   "cell_type": "code",
   "execution_count": null,
   "id": "408e3b61",
   "metadata": {},
   "outputs": [],
   "source": [
    "drop_columns = ['OnlineSecurity_No internet service', \n",
    "                'OnlineBackup_No internet service', \n",
    "                'DeviceProtection_No internet service',\n",
    "               'TechSupport_No internet service'\n",
    "                'StreamingTV_No internet service'\n",
    "                'StreamingMovies_no internet service'\n",
    "                'tenure', 'TotaCharges', 'MonthlyCharges', \n",
    "]\n",
    "\n",
    "features_2 = [f for f in features_1 if f not in drop_columns]"
   ]
  },
  {
   "cell_type": "code",
   "execution_count": null,
   "id": "ee60b59f",
   "metadata": {},
   "outputs": [],
   "source": [
    "temper = X_train[features_2].copy()\n",
    "temper[target_label] = y_train.copy()\n",
    "corr = temper.corr(method='pearson')"
   ]
  },
  {
   "cell_type": "code",
   "execution_count": null,
   "id": "3c385b51",
   "metadata": {},
   "outputs": [],
   "source": [
    "plt.figure(figsize=(12,10))\n",
    "ax = sns.heatmap(corr, annot=True, fmt='.2f', vmin=-1, vmax=1, cmap='Blues')\n",
    "plt.tight_layout()\n",
    "plt.show()"
   ]
  },
  {
   "cell_type": "code",
   "execution_count": null,
   "id": "38774b7a",
   "metadata": {},
   "outputs": [],
   "source": [
    "drop_columns = ['InternetService_Fiber optic', 'InternetService_No', 'YearlyCharges']"
   ]
  },
  {
   "cell_type": "code",
   "execution_count": null,
   "id": "614aa545",
   "metadata": {},
   "outputs": [],
   "source": [
    "features_3 = [f for f in features_2 if f not in drop_columns]"
   ]
  },
  {
   "cell_type": "code",
   "execution_count": null,
   "id": "e540ac88",
   "metadata": {},
   "outputs": [],
   "source": [
    "temp = X_train[features_3].copy()\n",
    "temp[target_label]= y_train.copy()\n",
    "corr = temp.corr(method='pearson')"
   ]
  },
  {
   "cell_type": "code",
   "execution_count": null,
   "id": "90a1a009",
   "metadata": {},
   "outputs": [],
   "source": [
    "plt.figure(figsize=(10,10))\n",
    "ax=sns.heatmap(corr, annot=True, fmt='.2f', vmin=-1, vmax=1, cmap='coolwarm')\n",
    "plt.tight_layout()\n",
    "plt.show()"
   ]
  },
  {
   "cell_type": "code",
   "execution_count": null,
   "id": "0077bbd5",
   "metadata": {},
   "outputs": [],
   "source": [
    "feat = features_3"
   ]
  },
  {
   "cell_type": "markdown",
   "id": "80a7f792",
   "metadata": {},
   "source": [
    "### Machine Learning Modeling"
   ]
  },
  {
   "cell_type": "markdown",
   "id": "f49373f5",
   "metadata": {},
   "source": [
    "##### Simple Model #001\n",
    "Please, keep the following structure to try all the model you want."
   ]
  },
  {
   "cell_type": "code",
   "execution_count": null,
   "id": "3aa47b29",
   "metadata": {},
   "outputs": [],
   "source": [
    "#lf = LazyClassifier(verbose=0, ignore_warnings=False, custom_metric=recall_score)\n",
    "#odels, predictions = clf.fit(X_train[feat], X_test[feat], y_train, y_test)\n",
    "#rint(models)"
   ]
  },
  {
   "cell_type": "code",
   "execution_count": null,
   "id": "a65df141",
   "metadata": {},
   "outputs": [],
   "source": [
    "X_train"
   ]
  },
  {
   "cell_type": "markdown",
   "id": "cb9ce6d3",
   "metadata": {},
   "source": [
    "### Another model?"
   ]
  },
  {
   "cell_type": "code",
   "execution_count": null,
   "id": "c73ad14d",
   "metadata": {},
   "outputs": [],
   "source": [
    "XGBClassifier"
   ]
  },
  {
   "cell_type": "code",
   "execution_count": null,
   "id": "7cd4bb89",
   "metadata": {},
   "outputs": [],
   "source": [
    "KNeighborsClassifier"
   ]
  },
  {
   "cell_type": "code",
   "execution_count": null,
   "id": "fa32f05c",
   "metadata": {},
   "outputs": [],
   "source": [
    "RandomForestClassifier"
   ]
  },
  {
   "cell_type": "code",
   "execution_count": null,
   "id": "f2592e2c",
   "metadata": {},
   "outputs": [],
   "source": [
    "DecisionTreeClassifier"
   ]
  },
  {
   "cell_type": "code",
   "execution_count": null,
   "id": "3dac3962",
   "metadata": {},
   "outputs": [],
   "source": [
    "BaggingClassifier"
   ]
  },
  {
   "cell_type": "code",
   "execution_count": null,
   "id": "2c054ddb",
   "metadata": {},
   "outputs": [],
   "source": []
  },
  {
   "cell_type": "code",
   "execution_count": null,
   "id": "13292514",
   "metadata": {},
   "outputs": [],
   "source": []
  },
  {
   "cell_type": "code",
   "execution_count": null,
   "id": "fcf758b8",
   "metadata": {},
   "outputs": [],
   "source": []
  },
  {
   "cell_type": "markdown",
   "id": "b182389e",
   "metadata": {},
   "source": [
    "##### Create the Model"
   ]
  },
  {
   "cell_type": "code",
   "execution_count": null,
   "id": "89c02755",
   "metadata": {},
   "outputs": [],
   "source": [
    "from sklearn.model_selection import cross_val_score\n",
    "from sklearn.tree import DecisionTreeClassifier"
   ]
  },
  {
   "cell_type": "markdown",
   "id": "d43a0070",
   "metadata": {},
   "source": [
    "##### Train the Model"
   ]
  },
  {
   "cell_type": "code",
   "execution_count": null,
   "id": "ebeb2264",
   "metadata": {},
   "outputs": [],
   "source": [
    "clf = DecisionTreeClassifier(random_state=42, class_weight='balanced', max_depth=11)"
   ]
  },
  {
   "cell_type": "code",
   "execution_count": null,
   "id": "7a8578b2",
   "metadata": {},
   "outputs": [],
   "source": [
    "# Use the .fit method\n",
    "clf = clf.fit(X_train, y_train)"
   ]
  },
  {
   "cell_type": "markdown",
   "id": "2e74a5e0",
   "metadata": {},
   "source": [
    "### Evaluate the Model on the Evaluation dataset (Evalset)"
   ]
  },
  {
   "cell_type": "code",
   "execution_count": null,
   "id": "4e8be1fa",
   "metadata": {},
   "outputs": [],
   "source": [
    "features"
   ]
  },
  {
   "cell_type": "markdown",
   "id": "a9b257b7",
   "metadata": {},
   "source": [
    "##### Predict on a unknown dataset (Testset)"
   ]
  },
  {
   "cell_type": "code",
   "execution_count": null,
   "id": "729fbff8",
   "metadata": {},
   "outputs": [],
   "source": [
    "# Use .predict method # .predict_proba is available just for classification\n",
    "Y_pred = clf.predict(X_test[features])"
   ]
  },
  {
   "cell_type": "markdown",
   "id": "abaeb066",
   "metadata": {},
   "source": [
    "### Simple Model #002"
   ]
  },
  {
   "cell_type": "markdown",
   "id": "f5776218",
   "metadata": {},
   "source": [
    "##### Create the Model"
   ]
  },
  {
   "cell_type": "code",
   "execution_count": null,
   "id": "955041b1",
   "metadata": {},
   "outputs": [],
   "source": [
    "# code "
   ]
  },
  {
   "cell_type": "markdown",
   "id": "4d305a6c",
   "metadata": {},
   "source": [
    "##### Train the Model"
   ]
  },
  {
   "cell_type": "code",
   "execution_count": null,
   "id": "6ca94a35",
   "metadata": {},
   "outputs": [],
   "source": [
    "# Use the .fit method"
   ]
  },
  {
   "cell_type": "markdown",
   "id": "42ad4f1c",
   "metadata": {},
   "source": [
    "### Evaluate the Model on the Evaluation dataset (Evalset)"
   ]
  },
  {
   "cell_type": "code",
   "execution_count": null,
   "id": "a7c94f35",
   "metadata": {},
   "outputs": [],
   "source": [
    "# Compute the valid metrics for the use case # Optional: show the classification report"
   ]
  },
  {
   "cell_type": "markdown",
   "id": "50ed8c22",
   "metadata": {},
   "source": [
    "##### Predict on a unknown dataset (Testset)"
   ]
  },
  {
   "cell_type": "code",
   "execution_count": null,
   "id": "75316a0f",
   "metadata": {},
   "outputs": [],
   "source": [
    "# Use .predict method # .predict_proba is available just for classification"
   ]
  },
  {
   "cell_type": "markdown",
   "id": "5be381c7",
   "metadata": {},
   "source": [
    "### Models comparison\n",
    "Create a pandas dataframe that will allow you to compare your models."
   ]
  },
  {
   "cell_type": "code",
   "execution_count": null,
   "id": "3fe900c4",
   "metadata": {},
   "outputs": [],
   "source": []
  }
 ],
 "metadata": {
  "kernelspec": {
   "display_name": "Python 3 (ipykernel)",
   "language": "python",
   "name": "python3"
  },
  "language_info": {
   "codemirror_mode": {
    "name": "ipython",
    "version": 3
   },
   "file_extension": ".py",
   "mimetype": "text/x-python",
   "name": "python",
   "nbconvert_exporter": "python",
   "pygments_lexer": "ipython3",
   "version": "3.9.12"
  }
 },
 "nbformat": 4,
 "nbformat_minor": 5
}
